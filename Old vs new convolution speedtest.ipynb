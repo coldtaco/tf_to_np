{
 "cells": [
  {
   "cell_type": "markdown",
   "id": "6a7504d5",
   "metadata": {},
   "source": [
    "# Speed comparison of new vs old conv2d implementation"
   ]
  },
  {
   "cell_type": "code",
   "execution_count": 1,
   "id": "07cc41f4",
   "metadata": {},
   "outputs": [],
   "source": [
    "import numpy as np\n",
    "\n",
    "class Conv2D_new:\n",
    "    def __init__(self, kernel, bias, input_shape):\n",
    "        self.kernel = kernel\n",
    "        self.bias = bias\n",
    "        k1, k2, c_in, c_out = kernel.shape\n",
    "        n, h, w, c = input_shape\n",
    "\n",
    "        template = np.arange(h*w*c).reshape(1,h,w,c) # Template for 1D indexing of input image\n",
    "        snips = []\n",
    "        for y in range(h-(k1-1)):\n",
    "            for x in range(h-(k2-1)):\n",
    "                snip = template[0, y:y+k1, x:x+k2,:]\n",
    "                snips.append(snip)\n",
    "        self.img_inds = np.asarray(snips).reshape(-1, k1 * k2* c_in)\n",
    "        self.kernel = kernel.reshape(k1*k2*c_in, c_out)\n",
    "        self.output_shape = (-1, h-k1+1, w-k2+1, c_out)\n",
    "\n",
    "    def __call__(self, img):\n",
    "        img = img.reshape(-1) # Flatten for indexing\n",
    "        img = img[self.img_inds]\n",
    "        img = img @ self.kernel\n",
    "        img = img.reshape(*self.output_shape)\n",
    "        return img + self.bias\n",
    "\n",
    "class Conv2D_old:\n",
    "    def __init__(self, kernel, bias):\n",
    "        self.kernel = kernel\n",
    "        self.bias = bias\n",
    "\n",
    "    def __call__(self, img):\n",
    "        kernel = self.kernel\n",
    "        n, h, w, c = img.shape\n",
    "        k, k, c_i, c_o = kernel.shape\n",
    "        res = np.zeros((n, h-k+1, w-k+1, c_o))\n",
    "        for n_ in range(n):\n",
    "            for c_out in range(c_o):\n",
    "                for y in range(h-(k-1)):\n",
    "                    for x in range(h-(k-1)):\n",
    "                        snip = img[n_, y:y+k, x:x+k,:]\n",
    "                        res[n_, y,x,c_out] = np.sum(snip * kernel[:,:,:,c_out])\n",
    "        return res + self.bias"
   ]
  },
  {
   "cell_type": "code",
   "execution_count": 2,
   "id": "0d31eb69",
   "metadata": {},
   "outputs": [],
   "source": [
    "img = np.random.rand(1,128,128,3)\n",
    "kernel = np.random.rand(5,5,3,32)\n",
    "input_shape = img.shape\n",
    "conv2d_new = Conv2D_new(kernel, 0 , input_shape)\n",
    "conv2d_old = Conv2D_old(kernel, 0)"
   ]
  },
  {
   "cell_type": "code",
   "execution_count": 3,
   "id": "5eecdc13",
   "metadata": {},
   "outputs": [
    {
     "name": "stdout",
     "output_type": "stream",
     "text": [
      "7.45 ms ± 346 µs per loop (mean ± std. dev. of 7 runs, 100 loops each)\n"
     ]
    }
   ],
   "source": [
    "%%timeit\n",
    "conv2d_new(img)"
   ]
  },
  {
   "cell_type": "code",
   "execution_count": 4,
   "id": "d50c79bd",
   "metadata": {},
   "outputs": [
    {
     "name": "stdout",
     "output_type": "stream",
     "text": [
      "3.27 s ± 73.2 ms per loop (mean ± std. dev. of 7 runs, 1 loop each)\n"
     ]
    }
   ],
   "source": [
    "%%timeit\n",
    "conv2d_old(img)"
   ]
  },
  {
   "cell_type": "markdown",
   "id": "0becb886",
   "metadata": {},
   "source": [
    "Substantially faster but takes more memory"
   ]
  },
  {
   "cell_type": "code",
   "execution_count": 5,
   "id": "9e9a1a7b",
   "metadata": {},
   "outputs": [],
   "source": [
    "#!pip install memory_profiler\n",
    "%load_ext memory_profiler"
   ]
  },
  {
   "cell_type": "code",
   "execution_count": 6,
   "id": "608c4610",
   "metadata": {},
   "outputs": [],
   "source": [
    "del img, conv2d_new, conv2d_old, kernel, input_shape"
   ]
  },
  {
   "cell_type": "code",
   "execution_count": 9,
   "id": "464f5408",
   "metadata": {},
   "outputs": [
    {
     "name": "stdout",
     "output_type": "stream",
     "text": [
      "Old function memory usage:\n",
      "peak memory: 103.09 MiB, increment: 0.00 MiB\n",
      "\n",
      "New function memory usage:\n",
      "peak memory: 103.04 MiB, increment: 0.00 MiB\n"
     ]
    }
   ],
   "source": [
    "def test_new():\n",
    "    img = np.random.rand(1,128,128,3)\n",
    "    kernel = np.random.rand(5,5,3,32)\n",
    "    input_shape = img.shape\n",
    "    conv2d_new = Conv2D_new(kernel, 0 , input_shape)\n",
    "    conv2d_new(img)\n",
    "def test_old():\n",
    "    img = np.random.rand(1,128,128,3)\n",
    "    kernel = np.random.rand(5,5,3,32)\n",
    "    input_shape = img.shape\n",
    "    conv2d_old = Conv2D_old(kernel, 0)\n",
    "    conv2d_old(img)"
   ]
  },
  {
   "cell_type": "code",
   "execution_count": 11,
   "id": "787a216b",
   "metadata": {},
   "outputs": [
    {
     "name": "stdout",
     "output_type": "stream",
     "text": [
      "Old function memory usage:\n",
      "peak memory: 88.95 MiB, increment: 7.18 MiB\n"
     ]
    }
   ],
   "source": [
    "\n",
    "print('Old function memory usage:')\n",
    "%memit test_old()"
   ]
  },
  {
   "cell_type": "code",
   "execution_count": 17,
   "id": "81a006d6",
   "metadata": {},
   "outputs": [
    {
     "name": "stdout",
     "output_type": "stream",
     "text": [
      "\n",
      "New function memory usage:\n",
      "peak memory: 81.82 MiB, increment: 0.09 MiB\n"
     ]
    }
   ],
   "source": [
    "print('\\nNew function memory usage:')\n",
    "%memit test_new()"
   ]
  }
 ],
 "metadata": {
  "kernelspec": {
   "display_name": "wav2vec",
   "language": "python",
   "name": "wav2vec"
  },
  "language_info": {
   "codemirror_mode": {
    "name": "ipython",
    "version": 3
   },
   "file_extension": ".py",
   "mimetype": "text/x-python",
   "name": "python",
   "nbconvert_exporter": "python",
   "pygments_lexer": "ipython3",
   "version": "3.8.9"
  }
 },
 "nbformat": 4,
 "nbformat_minor": 5
}
